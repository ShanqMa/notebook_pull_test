import numpy as np


import matplotlib.pyplot as plt


x = np.random.rand(10)


plt.plot(x)



